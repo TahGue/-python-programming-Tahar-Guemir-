{
  "cells": [
    {
      "cell_type": "markdown",
      "id": "953bf232-79a2-485e-b004-c59ff186a77d",
      "metadata": {},
      "source": [
        "Vi undersöker fyra olika linjära beslutsgränser:\n",
        "Vår egen: y = x\n",
        "f(x) = -0.489x\n",
        "g(x) = -2x + 0.16\n",
        "h(x) = 800x - 120"
      ]
    },
    {
      "cell_type": "code",
      "execution_count": 1,
      "id": "1e263227-af91-4d99-a281-f2c3de539644",
      "metadata": {
        "trusted": true
      },
      "outputs": [
        {
          "ename": "ModuleNotFoundError",
          "evalue": "No module named 'numpy'",
          "output_type": "error",
          "traceback": [
            "\u001b[31m---------------------------------------------------------------------------\u001b[39m",
            "\u001b[31mModuleNotFoundError\u001b[39m                       Traceback (most recent call last)",
            "\u001b[36mCell\u001b[39m\u001b[36m \u001b[39m\u001b[32mIn[1]\u001b[39m\u001b[32m, line 1\u001b[39m\n\u001b[32m----> \u001b[39m\u001b[32m1\u001b[39m \u001b[38;5;28;01mimport\u001b[39;00m\u001b[38;5;250m \u001b[39m\u001b[34;01mnumpy\u001b[39;00m\u001b[38;5;250m \u001b[39m\u001b[38;5;28;01mas\u001b[39;00m\u001b[38;5;250m \u001b[39m\u001b[34;01mnp\u001b[39;00m\n\u001b[32m      2\u001b[39m \u001b[38;5;28;01mimport\u001b[39;00m\u001b[38;5;250m \u001b[39m\u001b[34;01mmatplotlib\u001b[39;00m\u001b[34;01m.\u001b[39;00m\u001b[34;01mpyplot\u001b[39;00m\u001b[38;5;250m \u001b[39m\u001b[38;5;28;01mas\u001b[39;00m\u001b[38;5;250m \u001b[39m\u001b[34;01mplt\u001b[39;00m\n\u001b[32m      5\u001b[39m \u001b[38;5;28;01mtry\u001b[39;00m:\n",
            "\u001b[31mModuleNotFoundError\u001b[39m: No module named 'numpy'"
          ]
        }
      ],
      "source": [
        "import numpy as np\n",
        "import matplotlib.pyplot as plt\n",
        "\n",
        "\n",
        "try:\n",
        "    data = np.loadtxt(\"unlabelled_data.csv\", delimiter=\",\")\n",
        "    if data.ndim != 2 or data.shape[1] < 2:\n",
        "        raise ValueError(\"Data must have at least 2 columns (x, y).\")\n",
        "    x, y = data[:, 0], data[:, 1]\n",
        "except OSError as e:\n",
        "    print(f\"File error: {e}\")\n",
        "    x, y = np.array([]), np.array([])\n",
        "except ValueError as e:\n",
        "    print(f\"Data error: {e}\")\n",
        "    x, y = np.array([]), np.array([])\n",
        "except Exception as e:\n",
        "    print(f\"Unexpected error: {e}\")\n",
        "    x, y = np.array([]), np.array([])\n",
        "\n",
        "\n",
        "def classify(x, y, func):\n",
        "    try:\n",
        "        return (y >= func(x)).astype(int)\n",
        "    except Exception as e:\n",
        "        print(f\"Classification error: {e}\")\n",
        "        return np.array([])\n",
        "\n",
        "\n",
        "lines = {\n",
        "    \"Vår linje: y = x\": lambda x: x,\n",
        "    \"f(x) = -0.489x\": lambda x: -0.489 * x,\n",
        "    \"g(x) = -2x + 0.16\": lambda x: -2 * x + 0.16,\n",
        "    \"h(x) = 800x -120\": lambda x: 800 * x - 120,\n",
        "}\n",
        "\n",
        "\n",
        "if x.size > 0 and y.size > 0:\n",
        "    try:\n",
        "        plt.figure(figsize=(10, 8))\n",
        "        plt.scatter(x, y, c=\"gray\", s=20, alpha=0.7, label=\"Data\")\n",
        "\n",
        "        x_plot = np.linspace(x.min(), x.max(), 200)\n",
        "        for name, func in lines.items():\n",
        "            plt.plot(x_plot, func(x_plot), label=name)\n",
        "\n",
        "        plt.xlabel(\"x\")\n",
        "        plt.ylabel(\"y\")\n",
        "        plt.title(\"Jämförelse av beslutsgränser\")\n",
        "        plt.legend()\n",
        "        plt.grid(True, linestyle=\"--\", alpha=0.5)\n",
        "        plt.ylim(-5, 5)\n",
        "        plt.show()\n",
        "    except Exception as e:\n",
        "        print(f\"Plotting error: {e}\")\n",
        "else:\n",
        "    print(\"No data available for plotting.\")\n"
      ]
    },
    {
      "cell_type": "code",
      "execution_count": 3,
      "id": "015303d8-3e90-47ec-959b-6b388d0be89b",
      "metadata": {
        "trusted": true
      },
      "outputs": [
        {
          "name": "stdout",
          "output_type": "stream",
          "text": [
            "Vår linje: y = x: 294 punkter i klass 1 (av 600)\n",
            "f(x) = -0.489x: 301 punkter i klass 1 (av 600)\n",
            "g(x) = -2x + 0.16: 301 punkter i klass 1 (av 600)\n",
            "h(x) = 800x -120: 302 punkter i klass 1 (av 600)\n"
          ]
        }
      ],
      "source": [
        "labels = {}  # Fixed from 'lables'\n",
        "for name, func in lines.items():\n",
        "    labels[name] = classify(x, y, func)\n",
        "\n",
        "for name, lab in labels.items():\n",
        "    print(f\"{name}: {np.sum(lab)} punkter i klass 1 (av {len(lab)})\")"
      ]
    },
    {
      "cell_type": "markdown",
      "id": "e55aaee8-8df6-404b-bbc9-44f371883c22",
      "metadata": {},
      "source": [
        "Vår linje (y = x) ger en balanserad uppdelning (~50/50) och följer datans naturliga separation.\n",
        "f(x) = -0.489x har negativ lutning och delar datan tvärs över – den klassificerar nästan alla punkter som klass 1 (fel!).\n",
        "g(x) = -2x + 0.16 är ännu brantare negativ – ännu sämre separation.\n",
        "h(x) = 800x - 120 är extremt brant. För alla x < 0.15 är `h(x) < 0`, men för x > 0.15 skyter den uppåt. I praktiken klassificerar den nästan alla punkter som klass 0, utom de längst till höger.\n",
        "\n",
        "Slutsats\n",
        "Endast linjer med positiv lutning kan skilja dessa två kluster. \n",
        "Det finns oändligt många sådana linjer som fungerar (t.ex. `y = 0.8x`, `y = 1.2x - 0.3`), \n",
        "men de måste ligga i \"mellanrummet\" mellan klustren. \n",
        "Vår valda linje `y = x` är enkel och effektiv.\n",
        "\n",
        "Linjer med negativ lutning är olämpliga eftersom de inte respekterar datans struktur.    "
      ]
    },
    {
      "cell_type": "code",
      "execution_count": null,
      "id": "a88365af-c6d7-4228-9c5f-a01f0592e463",
      "metadata": {
        "trusted": true
      },
      "outputs": [],
      "source": []
    }
  ],
  "metadata": {
    "kernelspec": {
      "display_name": "3.12.0",
      "language": "python",
      "name": "python3"
    },
    "language_info": {
      "codemirror_mode": {
        "name": "ipython",
        "version": 3
      },
      "file_extension": ".py",
      "mimetype": "text/x-python",
      "name": "python",
      "nbconvert_exporter": "python",
      "pygments_lexer": "ipython3",
      "version": "3.12.0"
    }
  },
  "nbformat": 4,
  "nbformat_minor": 5
}
